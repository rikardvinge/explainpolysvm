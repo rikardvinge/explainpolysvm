{
 "cells": [
  {
   "cell_type": "markdown",
   "id": "15fd6502-2a60-4062-a0c6-13e6065597d6",
   "metadata": {},
   "source": [
    "# Five-dimensional artificial example with weak interactions\n",
    "\n",
    "An artificial dataset is created from 5 features with relatively weak interactions compared to the linear terms.\n",
    "\n",
    "The feature interactions are compared with Friedman's H-statistic, both the regular an the non-normalized version."
   ]
  },
  {
   "cell_type": "code",
   "execution_count": null,
   "id": "756ebe5d-882e-4e7e-8685-2e0e1efbe345",
   "metadata": {},
   "outputs": [],
   "source": [
    "import numpy as np\n",
    "import itertools\n",
    "import time\n",
    "import matplotlib.pyplot as plt\n",
    "\n",
    "from explainpolysvm import expsvm\n",
    "\n",
    "from sklearn.model_selection import train_test_split\n",
    "from sklearn.inspection import partial_dependence\n",
    "from sklearn.svm import SVC\n",
    "import skexplain\n",
    "from scipy.interpolate import interpn, interp1d"
   ]
  },
  {
   "cell_type": "code",
   "execution_count": null,
   "id": "56bf9eae-e315-4f29-9862-0be38a8e55c4",
   "metadata": {},
   "outputs": [],
   "source": [
    "save_figs = False"
   ]
  },
  {
   "cell_type": "markdown",
   "id": "a39d6754-c861-4e26-8f02-d04fb987182d",
   "metadata": {},
   "source": [
    "Fit Scikit-learn SVC model using a quadratic polynomial kernel and manually set hyperparameters."
   ]
  },
  {
   "cell_type": "code",
   "execution_count": null,
   "id": "d0533510-e158-4e71-be21-41adf2311ade",
   "metadata": {},
   "outputs": [
    {
     "name": "stdout",
     "output_type": "stream",
     "text": [
      "Samples changed class due to noise: 4.0%\n"
     ]
    },
    {
     "data": {
      "image/png": "[encoded data removed]",
      "text/plain": [
       "<Figure size 640x480 with 1 Axes>"
      ]
     },
     "metadata": {},
     "output_type": "display_data"
    }
   ],
   "source": [
    "n_feat = 5\n",
    "n_samples = 4000\n",
    "rng = np.random.default_rng(1011)\n",
    "\n",
    "# Class labels\n",
    "def class_fun(X, sigma, rng):\n",
    "    return 0.5*X[:,0]*X[:,1] - 0.5*X[:,0]*X[:,2] - 0.15*X[:,3]**2 + np.sum(X, axis=1)  + rng.normal(0, sigma, (X.shape[0]))\n",
    "\n",
    "# Noisy class assignment\n",
    "def dec_fun(X, noise_std, rng):\n",
    "    return 2*(class_fun(X, noise_std, rng) > -1) - 1\n",
    "\n",
    "def sample_points(n_samples, n_feat, rng, noise_std=1):\n",
    "    X = 10*(rng.random((n_samples, n_feat)) - 0.5)\n",
    "    y = dec_fun(X, noise_std, rng)\n",
    "    return X, y\n",
    "\n",
    "X, y = sample_points(n_samples, n_feat, rng, noise_std=1)\n",
    "\n",
    "# Test how many samples changed class due to noise\n",
    "y_nn = dec_fun(X, 0, rng)\n",
    "print(f'Samples changed class due to noise: {100*np.sum(y!=y_nn)/len(y):.1f}%')\n",
    "\n",
    "y_p1 = y == 1\n",
    "y_m1 = y == -1\n",
    "\n",
    "plt.figure()\n",
    "plt.hist(y)\n",
    "plt.show()\n"
   ]
  },
  {
   "cell_type": "code",
   "execution_count": 31,
   "id": "d4c0cff7",
   "metadata": {},
   "outputs": [
    {
     "name": "stdout",
     "output_type": "stream",
     "text": [
      "Time for ExPSVM explanations: 9.720e-04s\n"
     ]
    }
   ],
   "source": [
    "\n",
    "X_train, X_test, y_train, y_test = train_test_split(X, y, test_size=2000, random_state=10)\n",
    "n_train = X_train.shape[0]\n",
    "# Fit SVM\n",
    "C = 1\n",
    "degree = 3\n",
    "gamma = 'scale'\n",
    "r = np.sqrt(2)\n",
    "\n",
    "# Fit SVM\n",
    "kernel = 'poly'\n",
    "model = SVC(C=C, kernel=kernel, degree=degree, gamma=gamma, coef0=r, probability=True)\n",
    "model.fit(X_train, y_train)\n",
    "\n",
    "sv = model.support_vectors_\n",
    "dual_coef = np.squeeze(model.dual_coef_)\n",
    "intercept = model.intercept_[0]\n",
    "kernel_gamma = model._gamma\n",
    "\n",
    "# Calculate and time ExPSVM explanations\n",
    "t_start = time.time()\n",
    "es = expsvm.ExPSVM(sv=sv, dual_coef=dual_coef, intercept=intercept,\n",
    "                kernel_d=degree, kernel_r=r, kernel_gamma=kernel_gamma)\n",
    "es.transform_svm()\n",
    "print(f'Time for ExPSVM explanations: {time.time() - t_start:.3e}s')"
   ]
  },
  {
   "cell_type": "markdown",
   "id": "ca8ce2fa-7040-4965-a79b-14856ffbf23f",
   "metadata": {},
   "source": [
    "Test performance"
   ]
  },
  {
   "cell_type": "code",
   "execution_count": 32,
   "id": "9bf1bdd2-5e6a-4b49-a975-ede9e6f3fd61",
   "metadata": {},
   "outputs": [
    {
     "name": "stdout",
     "output_type": "stream",
     "text": [
      "Test accuracy: 0.955\n"
     ]
    }
   ],
   "source": [
    "y_pred = np.sign(es.decision_function(x=X_test))\n",
    "acc_test = np.sum(y_pred==y_test)/y_test.size\n",
    "print('Test accuracy: {}'.format(acc_test))"
   ]
  },
  {
   "cell_type": "code",
   "execution_count": 33,
   "id": "f8348985",
   "metadata": {},
   "outputs": [
    {
     "name": "stdout",
     "output_type": "stream",
     "text": [
      "Number of interactions excl. intercept: 55\n"
     ]
    }
   ],
   "source": [
    "print('Number of interactions excl. intercept:', len(es.feature_importance(include_intercept=False)[0]))"
   ]
  },
  {
   "cell_type": "markdown",
   "id": "370480a9-2eaa-4a95-bfb7-4edf2995b6b3",
   "metadata": {},
   "source": [
    "Feature importance"
   ]
  },
  {
   "cell_type": "code",
   "execution_count": 34,
   "id": "c06685b6-430a-4c72-a217-af07bc361f85",
   "metadata": {},
   "outputs": [
    {
     "name": "stderr",
     "output_type": "stream",
     "text": [
      "The PostScript backend does not support transparency; partially transparent artists will be rendered opaque.\n"
     ]
    },
    {
     "data": {
      "image/png": "[encoded data removed]",
      "text/plain": [
       "<Figure size 800x400 with 1 Axes>"
      ]
     },
     "metadata": {},
     "output_type": "display_data"
    }
   ],
   "source": [
    "fig = es.plot_model_bar(n_features=10, magnitude=True, figsize=(8,4), show=False)\n",
    "fig.gca().set_title('')\n",
    "fig.gca().set_ylabel('Absolute interaction importance')\n",
    "fig.gca().tick_params(axis='x', which='major', labelsize=12)\n",
    "plt.grid(alpha=0.2)\n",
    "if save_figs:\n",
    "    plt.savefig('./images/feature_importance_artificial.png', dpi=200, bbox_inches='tight', facecolor='white')\n",
    "    plt.savefig('./images/feature_importance_artificial.eps', bbox_inches='tight', facecolor='white')\n",
    "plt.show()"
   ]
  },
  {
   "cell_type": "markdown",
   "id": "45d48e39",
   "metadata": {},
   "source": [
    "Plot evolution of interaction importance with respect to C."
   ]
  },
  {
   "cell_type": "code",
   "execution_count": 35,
   "id": "2c1efdf6",
   "metadata": {},
   "outputs": [],
   "source": [
    "lin_feat = [f'{ind}' for ind in np.arange(n_feat)]\n",
    "quad_feat = [f'{t[0]},{t[1]}' for t in list(itertools.combinations_with_replacement(lin_feat, r=2))]\n",
    "cube_feat = [f'{t[0]},{t[1]},{t[2]}' for t in list(itertools.combinations_with_replacement(lin_feat, r=3))]\n",
    "all_feat = ['intercept'] + lin_feat + quad_feat + cube_feat\n",
    "n_top = len(all_feat)\n",
    "\n",
    "def top_imp(X, y, C, kernel, degree, gamma, coef0, X_test, y_test):\n",
    "    model_tmp = SVC(C=C, kernel=kernel, degree=degree, gamma=gamma, coef0=coef0)\n",
    "    model_tmp.fit(X, y)\n",
    "\n",
    "    sv = model_tmp.support_vectors_\n",
    "    dual_coef = np.squeeze(model_tmp.dual_coef_)\n",
    "    intercept = model_tmp.intercept_[0]\n",
    "    kernel_gamma = model_tmp._gamma\n",
    "\n",
    "    es = expsvm.ExPSVM(sv=sv, dual_coef=dual_coef, intercept=intercept,\n",
    "                    kernel_d=degree, kernel_r=r, kernel_gamma=kernel_gamma)\n",
    "    es.transform_svm()\n",
    "\n",
    "    y_pred = np.sign(es.decision_function(x=X_test))\n",
    "    acc = np.sum(y_pred==y_test)/y_test.size\n",
    "\n",
    "    # Calculate\n",
    "    imp, imp_f, _ = es.feature_importance(include_intercept=True, format_names=False, sort=False)\n",
    "    return imp, imp_f, acc\n",
    "\n",
    "\n",
    "# Retrain for various values for C. Takes about 10 minutes.\n",
    "study_c_dependence = False\n",
    "if study_c_dependence:\n",
    "    Cs = np.power(10., np.arange(-6, 6))\n",
    "    top_imps = np.zeros((len(Cs), n_top))\n",
    "    accs = np.zeros(len(Cs))\n",
    "\n",
    "    # Retrain SVM for each C, evaluate accuracy on test set each time.\n",
    "    for ind, c in enumerate(Cs):\n",
    "        x_train_tmp, y_train_tmp = sample_points(2000, 6, rng, 1)\n",
    "        imp, _, acc = top_imp(x_train_tmp, y_train_tmp, c, kernel, degree, gamma, r, X_test, y_test)\n",
    "        top_imps[ind, :] = imp\n",
    "        accs[ind] = acc\n",
    "\n",
    "        top_imps_rel = top_imps/np.max(top_imps, axis=1, keepdims=True)"
   ]
  },
  {
   "cell_type": "code",
   "execution_count": null,
   "id": "06bff1be",
   "metadata": {},
   "outputs": [],
   "source": [
    "if study_c_dependence:\n",
    "    plt.figure()\n",
    "    # Plot accuracy\n",
    "    plt.plot(Cs, accs, color='k', linestyle='--', label='Accuracy')\n",
    "    known_imp_f = ['3', '0,1', '0,2', '2,2', '1,2,4']\n",
    "    fancy_names = {'3':'$x_3$', '0,1':'$x_0x_1$', '0,2':'$x_0x_2$', '2,2':'$x_2^2$', '1,2,4': '$x_1x_2x_4$'}\n",
    "    label_for_linear = False\n",
    "    label_for_quadratic = False\n",
    "\n",
    "    # Plot known important first\n",
    "    for fi_known in np.arange(len(known_imp_f)):\n",
    "        # Find index of interaction\n",
    "        int_name = known_imp_f[fi_known]\n",
    "        fi = all_feat.index(int_name)\n",
    "        # Plot\n",
    "        plt.plot(Cs, top_imps_rel[:, fi], label=f'{fancy_names[all_feat[fi]]}')\n",
    "        \n",
    "    # Plot all other\n",
    "    for fi in np.arange(n_top):\n",
    "        # Skip if already plotted.\n",
    "        if all_feat[fi] in known_imp_f:\n",
    "            continue\n",
    "        \n",
    "        if all_feat[fi] in lin_feat:\n",
    "            linestyle = '--'\n",
    "            if not label_for_linear:\n",
    "                label_tmp = 'Input feature'\n",
    "                label_for_linear = True\n",
    "            else:\n",
    "                label_tmp = '_'\n",
    "            plt.plot(Cs, top_imps_rel[:, fi], color=[0.5, 0.5, 0.5], label=label_tmp, linestyle=linestyle)\n",
    "        else:\n",
    "            if not label_for_quadratic:\n",
    "                label_tmp = 'Quadratic and cubic interaction'\n",
    "                label_for_quadratic = True\n",
    "            else:\n",
    "                label_tmp = '_'\n",
    "            plt.plot(Cs, top_imps_rel[:, fi], color=[0.5, 0.5, 0.5], label=label_tmp)\n",
    "    plt.xscale('log')\n",
    "    plt.xlabel('C')\n",
    "    plt.ylabel('Relative importance w.r.t to C')\n",
    "    plt.legend(loc='upper left', bbox_to_anchor=(1,1))\n",
    "    plt.tick_params(axis='both', which='major', labelsize=12)\n",
    "    plt.grid(alpha=0.2)\n",
    "    if save_figs:\n",
    "        plt.savefig('./images/interaction_evolution_C.png', dpi=200, bbox_inches='tight', facecolor='white')\n",
    "        plt.savefig('./images/interaction_evolution_C.eps', bbox_inches='tight', facecolor='white')\n",
    "    plt.show()"
   ]
  },
  {
   "cell_type": "markdown",
   "id": "9da84777",
   "metadata": {},
   "source": [
    "Plot evolution of importances with respect to number of training samples. Just on sampling per number of trainin samples"
   ]
  },
  {
   "cell_type": "code",
   "execution_count": null,
   "id": "28724720",
   "metadata": {},
   "outputs": [],
   "source": [
    "study_train_size_dependence = False\n",
    "if study_train_size_dependence:\n",
    "    n_train_sub = 20*np.arange(1, 101)\n",
    "    n_try = 20\n",
    "    top_imps = np.zeros((n_try, len(n_train_sub), n_top))\n",
    "    top_imps_f = []\n",
    "    accs = np.zeros((n_try, len(n_train_sub)))\n",
    "\n",
    "    # Retrain SVM for each number of training samples, evaluate accuracy on test set each time.\n",
    "    for itry in np.arange(n_try):\n",
    "        for ind, nt in enumerate(n_train_sub):\n",
    "            x_train_tmp, y_train_tmp = sample_points(nt, 6, rng, 1)\n",
    "            # train_ind = rng.choice(n_train, nt)\n",
    "            imp, _, acc = top_imp(x_train_tmp, y_train_tmp, C, kernel, degree, gamma, r, X_test, y_test)\n",
    "            top_imps[itry, ind, :] = imp\n",
    "            accs[itry, ind] = acc\n",
    "\n",
    "    top_imps_rel = top_imps\n",
    "\n",
    "    top_imps_mean = np.mean(top_imps_rel, axis=0)\n",
    "    accs_mean = np.mean(accs, axis=0)\n",
    "\n",
    "    top_imps_se = np.std(top_imps_rel, axis=0)/np.sqrt(n_try)\n",
    "    accs_se = np.std(accs, axis=0)/np.sqrt(n_try)\n"
   ]
  },
  {
   "cell_type": "code",
   "execution_count": null,
   "id": "aa981e0a",
   "metadata": {},
   "outputs": [],
   "source": [
    "if study_train_size_dependence:\n",
    "    plt.figure(figsize=(7, 4))\n",
    "    colors = ['']\n",
    "    label_for_linear = False\n",
    "    label_for_quadratic = False\n",
    "    label_for_cubic = False\n",
    "\n",
    "    # Plot known important first\n",
    "    for fi_known in np.arange(len(known_imp_f)):\n",
    "        # Find index of interaction\n",
    "        int_name = known_imp_f[fi_known]\n",
    "        fi = all_feat.index(int_name)\n",
    "        p = plt.plot(n_train_sub, top_imps_mean[:, fi], label=f'{fancy_names[all_feat[fi]]}')\n",
    "\n",
    "    for fi in np.arange(n_top):\n",
    "        # Skip if already plotted.\n",
    "        if all_feat[fi] in known_imp_f:\n",
    "            continue\n",
    "        if all_feat[fi] in lin_feat:\n",
    "            if not label_for_linear:\n",
    "                plt.plot(n_train_sub, top_imps_mean[:, fi], color=[0.5, 0.5, 0.5], label='Input feature', linestyle='--')\n",
    "                label_for_linear = True\n",
    "            else:\n",
    "                plt.plot(n_train_sub, top_imps_mean[:, fi], color=[0.5, 0.5, 0.5], label='_', linestyle='--')\n",
    "        elif all_feat[fi] in quad_feat:\n",
    "            if not label_for_quadratic:\n",
    "                plt.plot(n_train_sub, top_imps_mean[:, fi], color=[0.5, 0.5, 0.5], label='Quadratic interaction')\n",
    "                label_for_quadratic = True\n",
    "            else:\n",
    "                plt.plot(n_train_sub, top_imps_mean[:, fi], color=[0.5, 0.5, 0.5], label='_')\n",
    "        elif all_feat[fi] == 'intercept':\n",
    "            pass\n",
    "        else:\n",
    "            if not label_for_cubic:\n",
    "                plt.plot(n_train_sub, top_imps_mean[:, fi], color='k', label='Cubic interaction')\n",
    "                label_for_cubic = True\n",
    "            else:\n",
    "                plt.plot(n_train_sub, top_imps_mean[:, fi], color='k', label='_')\n",
    "    # plt.xscale('log')\n",
    "    plt.xlabel('Number of training samples')\n",
    "    plt.ylabel('Interaction importance')\n",
    "    plt.legend(loc='upper left', bbox_to_anchor=(1,1), prop={'size': 10})\n",
    "    plt.grid(alpha=0.2)\n",
    "    plt.tick_params(axis='both', which='major', labelsize=12)\n",
    "    if save_figs:\n",
    "        plt.savefig('./images/interaction_evolution_training_samples.png', dpi=200, bbox_inches='tight', facecolor='white')\n",
    "        plt.savefig('./images/interaction_evolution_training_samples.eps', bbox_inches='tight', facecolor='white')\n",
    "    plt.show()"
   ]
  },
  {
   "cell_type": "markdown",
   "id": "2ac6429f-bef3-4eab-bc45-67c8eef93dde",
   "metadata": {},
   "source": [
    "When increasing C, i.e. penalizing wrongful classifications harder, the model tends toward the real boundary"
   ]
  },
  {
   "cell_type": "markdown",
   "id": "4ae1488e-dd22-4fb2-95de-32ba029eef06",
   "metadata": {},
   "source": [
    "Evaluate performance using the top-2 features"
   ]
  },
  {
   "cell_type": "code",
   "execution_count": null,
   "id": "75fe8ad1-8b30-4efd-936b-9203750f7f8f",
   "metadata": {},
   "outputs": [
    {
     "name": "stdout",
     "output_type": "stream",
     "text": [
      "Test accuracy using top-2 interactions 73.9%, compared to 95.5% with all 56 features and interactions.\n"
     ]
    }
   ],
   "source": [
    "es.set_mask(n_interactions=4)\n",
    "y_pred_masked = np.sign(es.decision_function(x=X_test, mask=True))\n",
    "acc_masked = np.sum(y_pred_masked==y_test)/y_test.size\n",
    "print(f'Test accuracy using top-2 interactions {100*acc_masked:.1f}%, compared to {100*acc_test:.1f}% with all {len(all_feat)} features and interactions.')"
   ]
  },
  {
   "cell_type": "markdown",
   "id": "1b7d54ec-2596-4771-b08c-2db341b2bdab",
   "metadata": {},
   "source": [
    "Plot signed importance"
   ]
  },
  {
   "cell_type": "code",
   "execution_count": 63,
   "id": "549c9152-f4fd-4700-b285-a655747b9239",
   "metadata": {},
   "outputs": [
    {
     "name": "stderr",
     "output_type": "stream",
     "text": [
      "The PostScript backend does not support transparency; partially transparent artists will be rendered opaque.\n"
     ]
    },
    {
     "data": {
      "image/png": "[encoded data removed]",
      "text/plain": [
       "<Figure size 800x300 with 1 Axes>"
      ]
     },
     "metadata": {},
     "output_type": "display_data"
    }
   ],
   "source": [
    "fig = es.plot_model_bar(n_features=15, magnitude=False, figsize=(8,3), show=False)\n",
    "fig.gca().set_title('')\n",
    "fig.gca().set_ylabel('Interaction importance')\n",
    "fig.gca().tick_params(axis='x', which='major', labelsize=13)\n",
    "plt.grid(alpha=0.2)\n",
    "if save_figs:\n",
    "    plt.savefig('./images/feature_importance_signed_artificial.png', dpi=200, bbox_inches='tight', facecolor='white')\n",
    "    plt.savefig('./images/feature_importance_signed_artificial.eps', bbox_inches='tight', facecolor='white')\n",
    "plt.show()"
   ]
  },
  {
   "cell_type": "markdown",
   "id": "6b40918b",
   "metadata": {},
   "source": [
    "# Compare feature interaction with H-statistic"
   ]
  },
  {
   "cell_type": "code",
   "execution_count": null,
   "id": "bcb8f4ba",
   "metadata": {},
   "outputs": [],
   "source": [
    "f_names = [f'x{ind}' for ind in np.arange(n_feat)]\n",
    "f_names_comb = list(itertools.combinations(f_names, r=2))\n",
    "explainer = skexplain.ExplainToolkit(estimators=('svc', model), X=X_train, y=y_train, feature_names=f_names, estimator_output='probability')"
   ]
  },
  {
   "cell_type": "code",
   "execution_count": null,
   "id": "d357e702",
   "metadata": {},
   "outputs": [
    {
     "name": "stderr",
     "output_type": "stream",
     "text": [
      "PD Numerical Features: 100%|██████████| 5/5 [00:06<00:00,  1.26s/it]\n",
      "PD Numerical Features: 100%|██████████| 10/10 [01:24<00:00,  8.43s/it]\n",
      "100%|██████████| 10/10 [00:00<00:00, 4992.03it/s]"
     ]
    },
    {
     "name": "stdout",
     "output_type": "stream",
     "text": [
      "Time for H-statistic explanations: 9.064e+01s\n"
     ]
    },
    {
     "name": "stderr",
     "output_type": "stream",
     "text": [
      "\n"
     ]
    }
   ],
   "source": [
    "# Calculate and time PDP and Friedman's H-statistic without subsampling\n",
    "t_start = time.time()\n",
    "pd_1d_ds = explainer.pd(features=f_names,\n",
    "                        n_bootstrap=1,\n",
    "                        subsample=1,\n",
    "                        n_jobs=12,\n",
    "                        n_bins=50, \n",
    "                        )\n",
    "\n",
    "pd_2d_ds = explainer.pd(features=f_names_comb, n_bins=50, subsample=1, n_bootstrap=1, n_jobs=12)\n",
    "\n",
    "hstat_results = explainer.friedman_h_stat(pd_1d=pd_1d_ds, pd_2d=pd_2d_ds, features=f_names_comb,)\n",
    "print(f'Time for H-statistic explanations: {time.time() - t_start:.3e}s')"
   ]
  },
  {
   "cell_type": "code",
   "execution_count": 62,
   "id": "24b8d033",
   "metadata": {},
   "outputs": [
    {
     "name": "stderr",
     "output_type": "stream",
     "text": [
      "The PostScript backend does not support transparency; partially transparent artists will be rendered opaque.\n"
     ]
    },
    {
     "data": {
      "image/png": "[encoded data removed]",
      "text/plain": [
       "<Figure size 1200x250 with 5 Axes>"
      ]
     },
     "metadata": {},
     "output_type": "display_data"
    },
    {
     "name": "stderr",
     "output_type": "stream",
     "text": [
      "The PostScript backend does not support transparency; partially transparent artists will be rendered opaque.\n"
     ]
    },
    {
     "data": {
      "image/png": "[encoded data removed]",
      "text/plain": [
       "<Figure size 1000x300 with 1 Axes>"
      ]
     },
     "metadata": {},
     "output_type": "display_data"
    }
   ],
   "source": [
    "# Plot 1D PDP\n",
    "fig, axs = plt.subplots(1, n_feat, figsize=(12,2.5), sharey=True)\n",
    "for ifeat in np.arange(n_feat):\n",
    "    x = pd_1d_ds[f'x{ifeat}__bin_values'].to_numpy().flatten()\n",
    "    y = pd_1d_ds[f'x{ifeat}__svc__pd'].to_numpy().flatten()\n",
    "    axs[ifeat].plot(x, 100*y)\n",
    "    axs[ifeat].grid(alpha=0.2)\n",
    "    axs[ifeat].set_xlabel(f'$x_{ifeat}$')\n",
    "    if ifeat == 0:\n",
    "        axs[ifeat].set_ylabel(f'Centered PD (%)')\n",
    "if save_figs:\n",
    "    plt.savefig('./images/pdp_1d.png', dpi=200, bbox_inches='tight', facecolor='white')\n",
    "    plt.savefig('./images/pdp_1d.eps', bbox_inches='tight', facecolor='white')\n",
    "plt.show()\n",
    "\n",
    "# Plot Friedman's H-statistic\n",
    "rank = [f\"$x_{interaction.split('__')[0][1:]}x_{interaction.split('__')[1][1:]}$\" for interaction in list(hstat_results['hstat_rankings__svc'].to_numpy())]\n",
    "val = hstat_results['hstat_scores__svc'].to_numpy().flatten()\n",
    "plt.figure(figsize=(10,3))\n",
    "plt.bar(np.arange(len(val)), val)\n",
    "plt.xticks(np.arange(len(val)), labels=rank)\n",
    "plt.tick_params(axis='both', which='major', labelsize=13)\n",
    "plt.grid(alpha=0.2)\n",
    "plt.xlabel('Interaction')\n",
    "plt.ylabel('H-statistic')\n",
    "if save_figs:\n",
    "    plt.savefig('./images/h-statistic.png', dpi=200, bbox_inches='tight', facecolor='white')\n",
    "    plt.savefig('./images/h-statistic.eps', bbox_inches='tight', facecolor='white')\n",
    "plt.show()"
   ]
  },
  {
   "cell_type": "markdown",
   "id": "caec8c9c",
   "metadata": {},
   "source": [
    "# Redo but with Scikit-Learn"
   ]
  },
  {
   "cell_type": "code",
   "execution_count": 54,
   "id": "ee92359a",
   "metadata": {},
   "outputs": [],
   "source": [
    "n_bins = 50\n",
    "pds_1d_d = {ind: np.zeros((n_bins)) for ind in lin_feat}\n",
    "pds_1d_grid = {ind: np.zeros((n_bins)) for ind in lin_feat}\n",
    "\n",
    "pds_2d_d = {f'{f_ind1},{f_ind2}': np.zeros((n_bins, n_bins)) for f_ind1, f_ind2 in itertools.combinations(lin_feat, r=2)}\n",
    "\n",
    "# 2D PD\n",
    "for f_ind1 in np.arange(n_feat):\n",
    "    pd = partial_dependence(estimator=model, X=X_train, features=[f_ind1], grid_resolution=n_bins, response_method='predict_proba', percentiles=(0, 1))\n",
    "    pds_1d_grid[str(f_ind1)] = pd['grid_values'][0]\n",
    "    pds_1d_d[str(f_ind1)] = pd['average'][0]\n",
    "\n",
    "    if f_ind1 < (n_feat-1):\n",
    "        for f_ind2 in np.arange(f_ind1+1, n_feat):\n",
    "            pd_2d = partial_dependence(estimator=model, X=X_train, features=[f_ind1, f_ind2], grid_resolution=n_bins, response_method='predict_proba', percentiles=(0, 1))\n",
    "            pds_2d_d[f'{f_ind1},{f_ind2}'] = pd_2d['average'][0, :, :]"
   ]
  },
  {
   "cell_type": "code",
   "execution_count": null,
   "id": "f800ef71",
   "metadata": {},
   "outputs": [],
   "source": [
    "# Calculate H-statistics from 1 and 2D PDP\n",
    "def friedmans_hstat(X, pd_1d, pd_2d, grids, sort=False):\n",
    "\n",
    "    int_2d = np.array(list(pd_2d.keys()))\n",
    "    hstat_jk = np.zeros(len(int_2d))\n",
    "    hstat_jk_nonnorm = np.zeros(len(int_2d))\n",
    "    n_x = X.shape[0]\n",
    "    # H-statistics between feature j and k\n",
    "    for i, inds in enumerate(int_2d):\n",
    "        f_ind1, f_ind2 = [int(ind) for ind in inds.split(',')]\n",
    "        arr_j = pd_1d[str(f_ind1)]-np.mean(pd_1d[str(f_ind1)])\n",
    "        arr_k = pd_1d[str(f_ind2)]-np.mean(pd_1d[str(f_ind2)])\n",
    "        arr_jk = pd_2d[inds] - np.mean(pd_2d[inds])\n",
    "\n",
    "        pd12_interp = interpn((grids[str(f_ind1)], grids[str(f_ind2)]), arr_jk.T, X_train[:, [f_ind1, f_ind2]], method='cubic')\n",
    "        \n",
    "        interp1 = interp1d(grids[str(f_ind1)], arr_j, kind='cubic')\n",
    "        pd1_interp = interp1(X_train[:, f_ind1],)\n",
    "\n",
    "        interp2 = interp1d(grids[str(f_ind2)], arr_k, kind='cubic')\n",
    "        pd2_interp = interp2(X_train[:, f_ind2],)\n",
    "        \n",
    "        numerator = (pd12_interp - pd1_interp - pd2_interp)**2\n",
    "        denominator = pd12_interp**2\n",
    "\n",
    "        hstat_jk[i] = np.sqrt(np.sum(numerator)/np.sum(denominator))\n",
    "        hstat_jk_nonnorm[i] = np.sqrt(np.sum(numerator))\n",
    "    if sort:\n",
    "        sort_order = np.argsort(hstat_jk)[::-1]\n",
    "        hstat_jk = hstat_jk[sort_order]\n",
    "        int_2d = int_2d[sort_order]\n",
    "        hstat_jk_nonnorm = hstat_jk_nonnorm[sort_order]\n",
    "    return int_2d, hstat_jk, hstat_jk_nonnorm\n",
    "\n",
    "interaction, hstat, hstat_nonnorm = friedmans_hstat(X_train, pds_1d_d, pds_2d_d, pds_1d_grid, sort=True)"
   ]
  },
  {
   "cell_type": "code",
   "execution_count": 64,
   "id": "747877f0",
   "metadata": {},
   "outputs": [
    {
     "name": "stderr",
     "output_type": "stream",
     "text": [
      "The PostScript backend does not support transparency; partially transparent artists will be rendered opaque.\n"
     ]
    },
    {
     "data": {
      "image/png": "[encoded data removed]",
      "text/plain": [
       "<Figure size 1000x300 with 1 Axes>"
      ]
     },
     "metadata": {},
     "output_type": "display_data"
    }
   ],
   "source": [
    "# Plot Friedman's H-statistic\n",
    "plt.figure(figsize=(10,3))\n",
    "plt.bar(np.arange(len(hstat_nonnorm)), hstat_nonnorm/hstat)\n",
    "plt.xticks(np.arange(len(hstat_nonnorm)), interaction)\n",
    "plt.tick_params(axis='both', which='major', labelsize=13)\n",
    "plt.xticks(np.arange(len(hstat_nonnorm)), labels=rank)\n",
    "plt.grid(alpha=0.2)\n",
    "plt.xlabel('Interaction')\n",
    "plt.ylabel('Unnormalized H-statistic')\n",
    "if save_figs:\n",
    "    plt.savefig('./images/h-statistic_nonnormalized.png', dpi=200, bbox_inches='tight', facecolor='white')\n",
    "    plt.savefig('./images/h-statistic_nonnormalized.eps', bbox_inches='tight', facecolor='white')\n",
    "plt.show()"
   ]
  }
 ],
 "metadata": {
  "kernelspec": {
   "display_name": "expsvm",
   "language": "python",
   "name": "python3"
  },
  "language_info": {
   "codemirror_mode": {
    "name": "ipython",
    "version": 3
   },
   "file_extension": ".py",
   "mimetype": "text/x-python",
   "name": "python",
   "nbconvert_exporter": "python",
   "pygments_lexer": "ipython3",
   "version": "3.11.5"
  }
 },
 "nbformat": 4,
 "nbformat_minor": 5
}
