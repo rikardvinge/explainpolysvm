{
 "cells": [
  {
   "cell_type": "markdown",
   "id": "15fd6502-2a60-4062-a0c6-13e6065597d6",
   "metadata": {},
   "source": [
    "Two-dimensional toy example\n",
    "\n",
    "The data in this example consists of two classes, one sampled from within the unit circle and the other from the ring with minimum radius 1 and maximum radius 1.41.\n",
    "\n",
    "The classes are designed to be informative in the quadratic interactions $x_0x_0$ and $x_1x_1$, but not in the remaining interactions x_0, x_1 and x_0x_1."
   ]
  },
  {
   "cell_type": "code",
   "execution_count": null,
   "id": "756ebe5d-882e-4e7e-8685-2e0e1efbe345",
   "metadata": {},
   "outputs": [],
   "source": [
    "import numpy as np\n",
    "import os\n",
    "import sys\n",
    "\n",
    "sys.path.insert(0, os.path.abspath(os.path.join(os.getcwd(),'..','..')))\n",
    "from explainpolysvm import expsvm\n",
    "import matplotlib.pyplot as plt\n",
    "from sklearn.model_selection import train_test_split\n",
    "from sklearn.svm import SVC\n"
   ]
  },
  {
   "cell_type": "code",
   "execution_count": null,
   "id": "3de5830c-cb15-4e35-955a-7efa6327e3e9",
   "metadata": {},
   "outputs": [],
   "source": [
    "n_train_per_class = 125  # We will later remove 25 samples per class to a test set.\n",
    "\n",
    "# Radii for rings\n",
    "r_min1 = 0.\n",
    "r_max1 = 1.\n",
    "r_min2 = 1.\n",
    "r_max2 = 1.41\n",
    "\n",
    "# Sample from classes\n",
    "phi_train1 = 2 * np.pi * np.random.rand(n_train_per_class)\n",
    "r_train1 = r_min1 + (r_max1 - r_min1) * np.random.rand(n_train_per_class, 1)\n",
    "X_train1 = np.multiply(r_train1, np.transpose(np.array((np.cos(phi_train1), np.sin(phi_train1)))))\n",
    "\n",
    "phi_train2 = 2 * np.pi * np.random.rand(n_train_per_class)\n",
    "r_train2 = r_min2 + (r_max2 - r_min2) * np.random.rand(n_train_per_class, 1)\n",
    "X_train2 = np.multiply(r_train2, np.transpose(np.array((np.cos(phi_train2), np.sin(phi_train2)))))\n"
   ]
  },
  {
   "cell_type": "code",
   "execution_count": null,
   "id": "6d1a74c3-ea05-4e3b-a1f1-93b9b70d4a38",
   "metadata": {},
   "outputs": [],
   "source": [
    "fig, ax = plt.subplots(1,1, figsize=(2,2))\n",
    "ax.scatter(x=X_train1[:,0], y=X_train1[:,1], color=[0.5, 0.5, 0.5])\n",
    "ax.scatter(x=X_train2[:,0], y=X_train2[:,1], color=[0.2, 0.2, 0.2], marker='x')\n",
    "ax.set_aspect('equal', adjustable='box')\n",
    "# plt.legend(['class 1', 'class -1'])\n",
    "# plt.savefig('./training_data.png', dpi=300,)\n",
    "plt.draw()"
   ]
  },
  {
   "cell_type": "markdown",
   "id": "a39d6754-c861-4e26-8f02-d04fb987182d",
   "metadata": {},
   "source": [
    "Fit Scikit-learn SVC model using a quadratic polynomial kernel and manually set hyperparameters."
   ]
  },
  {
   "cell_type": "code",
   "execution_count": null,
   "id": "d0533510-e158-4e71-be21-41adf2311ade",
   "metadata": {},
   "outputs": [],
   "source": [
    "X = np.concatenate((X_train1, X_train2), axis=0)\n",
    "y = np.concatenate((np.ones(n_train_per_class), -np.ones(n_train_per_class)))\n",
    "\n",
    "X_train, X_test, y_train, y_test = train_test_split(X, y, test_size=50, random_state=10)\n",
    "# Fit SVM\n",
    "C = 0.9\n",
    "degree = 2\n",
    "gamma = 'scale'\n",
    "r = np.sqrt(2)\n",
    "\n",
    "# Fit SVM\n",
    "kernel = 'poly'\n",
    "model = SVC(C=C, kernel=kernel, degree=degree, gamma=gamma, coef0=r)\n",
    "model.fit(X_train, y_train)\n",
    "\n",
    "sv = model.support_vectors_\n",
    "dual_coef = np.squeeze(model.dual_coef_)\n",
    "intercept = model.intercept_[0]\n",
    "kernel_gamma = model._gamma\n",
    "\n",
    "es = expsvm.ExPSVM(sv=sv, dual_coef=dual_coef, intercept=intercept,\n",
    "                kernel_d=degree, kernel_r=r, kernel_gamma=kernel_gamma)\n",
    "es.transform_svm()"
   ]
  },
  {
   "cell_type": "markdown",
   "id": "ca8ce2fa-7040-4965-a79b-14856ffbf23f",
   "metadata": {},
   "source": [
    "Test performance"
   ]
  },
  {
   "cell_type": "code",
   "execution_count": null,
   "id": "9bf1bdd2-5e6a-4b49-a975-ede9e6f3fd61",
   "metadata": {},
   "outputs": [],
   "source": [
    "y_pred = np.sign(es.decision_function(x=X_test))\n",
    "acc = np.sum(y_pred==y_test)/y_test.size\n",
    "print('Test accuracy: {}'.format(acc))"
   ]
  },
  {
   "cell_type": "markdown",
   "id": "370480a9-2eaa-4a95-bfb7-4edf2995b6b3",
   "metadata": {},
   "source": [
    "Feature importance"
   ]
  },
  {
   "cell_type": "code",
   "execution_count": null,
   "id": "c06685b6-430a-4c72-a217-af07bc361f85",
   "metadata": {},
   "outputs": [],
   "source": [
    "feat_importance, feat_names, sort_order = es.feature_importance(format_names=True)\n",
    "\n",
    "fig, ax = plt.subplots(1,1, figsize=(2,2))\n",
    "ax.bar(x=np.arange(feat_importance.size), height=feat_importance, tick_label=['${}$'.format(name) for name in feat_names])\n",
    "plt.xlabel('Interaction')\n",
    "plt.ylabel('Decision function weight')\n",
    "# plt.savefig('./feature_importance.png', dpi=300)\n",
    "plt.draw()"
   ]
  },
  {
   "cell_type": "markdown",
   "id": "2ac6429f-bef3-4eab-bc45-67c8eef93dde",
   "metadata": {},
   "source": [
    "The two expected interactions, $x_0x_0$ and $x_1x_1$, clearly stands out as the two most important."
   ]
  }
 ],
 "metadata": {
  "kernelspec": {
   "display_name": "Python 3 (ipykernel)",
   "language": "python",
   "name": "python3"
  },
  "language_info": {
   "codemirror_mode": {
    "name": "ipython",
    "version": 3
   },
   "file_extension": ".py",
   "mimetype": "text/x-python",
   "name": "python",
   "nbconvert_exporter": "python",
   "pygments_lexer": "ipython3",
   "version": "3.9.7"
  }
 },
 "nbformat": 4,
 "nbformat_minor": 5
}
