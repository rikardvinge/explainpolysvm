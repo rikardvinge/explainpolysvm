{
 "cells": [
  {
   "cell_type": "markdown",
   "metadata": {},
   "source": [
    "Visualization example of a very simple two-dimensional classification problem.\n",
    "\n",
    "The negative (-1) class is sampled within a circle with radius 1 while the positive (+1) class is sampled from a ring with inner radius 0.95 and outer radius sqrt(2)"
   ]
  },
  {
   "cell_type": "code",
   "execution_count": null,
   "metadata": {},
   "outputs": [],
   "source": [
    "import numpy as np\n",
    "\n",
    "from explainpolysvm import expsvm\n",
    "import matplotlib.pyplot as plt\n",
    "from sklearn.model_selection import train_test_split\n",
    "from sklearn.svm import SVC\n"
   ]
  },
  {
   "cell_type": "code",
   "execution_count": null,
   "metadata": {},
   "outputs": [],
   "source": [
    "save_figs = False"
   ]
  },
  {
   "cell_type": "code",
   "execution_count": null,
   "metadata": {},
   "outputs": [],
   "source": [
    "n_train_per_class = 8\n",
    "\n",
    "# Radii for rings\n",
    "r_min1 = 1.\n",
    "r_max1 = 1.\n",
    "r_min2 = 3\n",
    "r_max2 = 3\n",
    "center = np.array([3,2])\n",
    "\n",
    "# Sample from classes\n",
    "phi_train1 = 2 * np.pi * np.arange(0, 1, 1/n_train_per_class)#np.random.rand(n_train_per_class)\n",
    "r_train1 = r_min1 + (r_max1 - r_min1) * np.random.rand(n_train_per_class, 1)\n",
    "X_train1 = center +np.multiply(r_train1, np.transpose(np.array((np.cos(phi_train1), np.sin(phi_train1)))))\n",
    "\n",
    "phi_train2 = 2 * np.pi * np.arange(0, 1, 1/n_train_per_class)#np.random.rand(3*n_train_per_class)\n",
    "r_train2 = r_min2 + (r_max2 - r_min2) * np.random.rand(n_train_per_class, 1)\n",
    "X_train2 = center + np.multiply(r_train2, np.transpose(np.array((np.cos(phi_train2), np.sin(phi_train2)))))\n",
    "\n",
    "# # X_train1 = np.array([[0,0]])\n",
    "# X_train1 = np.array([[0.5,0], [-0.5, 0]])#, [0, 0.5], [0, -0.5]])\n",
    "# X_train2 = np.array([[1.5,0], [-1.5, 0]])#, [0, 1.5], [0, -1.5]])\n",
    "\n",
    "# # rotation\n",
    "# theta = np.pi/4\n",
    "# rot_matrix = np.array([[np.cos(theta), -np.sin(theta)],\n",
    "#                        [np.sin(theta), np.cos(theta)]])\n",
    "\n",
    "# # Rotate\n",
    "# X_train1 = np.matmul(rot_matrix, X_train1.T).T\n",
    "# X_train2 = np.matmul(rot_matrix, X_train2.T).T\n",
    "\n",
    "X = np.concatenate((X_train1, X_train2), axis=0)\n",
    "# y = np.concatenate((np.ones(n_train_per_class), -np.ones(n_train_per_class)))\n",
    "y = np.concatenate((np.ones(len(X_train1)), -np.ones(len(X_train2))))\n",
    "# y = [-1, -1, -1, 1, 1, 1]"
   ]
  },
  {
   "cell_type": "code",
   "execution_count": null,
   "metadata": {},
   "outputs": [],
   "source": [
    "fig, ax = plt.subplots(1,1, figsize=(5,5))\n",
    "ax.scatter(x=X_train1[:,0], y=X_train1[:,1], color=[0.5, 0.5, 0.5])\n",
    "ax.scatter(x=X_train2[:,0], y=X_train2[:,1], color=[0.2, 0.2, 0.2], marker='x')\n",
    "ax.set_aspect('equal', adjustable='box')\n",
    "plt.legend(['class 1', 'class -1'])\n",
    "if save_figs:\n",
    "    plt.savefig('./images/training_data_2d.png', dpi=200,facecolor='white')\n",
    "plt.draw()"
   ]
  },
  {
   "cell_type": "code",
   "execution_count": null,
   "metadata": {},
   "outputs": [],
   "source": [
    "# X_train, X_test, y_train, y_test = train_test_split(X, y, test_size=50, random_state=10)\n",
    "X_train, y_train = X, y\n",
    "# Fit SVM\n",
    "C = 10\n",
    "degree = 2\n",
    "gamma = 'scale'\n",
    "r = 1*np.sqrt(2)\n",
    "\n",
    "# Fit SVM\n",
    "kernel = 'poly'\n",
    "model = SVC(C=C, kernel=kernel, degree=degree, gamma=gamma, coef0=r)\n",
    "model.fit(X_train, y_train)\n",
    "\n",
    "sv = model.support_vectors_\n",
    "dual_coef = np.squeeze(model.dual_coef_)\n",
    "intercept = model.intercept_[0]\n",
    "kernel_gamma = model._gamma\n",
    "\n",
    "es = expsvm.ExPSVM(sv=sv, dual_coef=dual_coef, intercept=intercept,\n",
    "                kernel_d=degree, kernel_r=r, kernel_gamma=kernel_gamma)\n",
    "es.transform_svm()"
   ]
  },
  {
   "cell_type": "markdown",
   "metadata": {},
   "source": [
    "Test performance"
   ]
  },
  {
   "cell_type": "code",
   "execution_count": null,
   "metadata": {},
   "outputs": [],
   "source": [
    "# y_pred = np.sign(es.decision_function(x=X_test))\n",
    "# acc = np.sum(y_pred==y_test)/y_test.size\n",
    "# print('Test accuracy: {}'.format(acc))"
   ]
  },
  {
   "cell_type": "markdown",
   "metadata": {},
   "source": [
    "Feature importance"
   ]
  },
  {
   "cell_type": "code",
   "execution_count": null,
   "metadata": {},
   "outputs": [],
   "source": [
    "_ = es.plot_model_bar(n_features=20, magnitude=False, show=False, figsize=(4,3))\n",
    "if save_figs:\n",
    "    plt.savefig('./images/feature_importance_2d.png', dpi=200, facecolor='white')\n",
    "plt.show()"
   ]
  },
  {
   "cell_type": "code",
   "execution_count": null,
   "metadata": {},
   "outputs": [],
   "source": [
    "f = es.feature_importance(format_names=False, include_intercept=True, magnitude=False)\n",
    "\n",
    "def calc_boundary_for_2d_sv_with_2_features(x, is_x0, feat_imp, decimals: int = None):\n",
    "    \"\"\"Calcuate the roots of a two-dimensional quadratic (or linear) function.\n",
    "    \"\"\"\n",
    "    a = feat_imp[0][np.where(feat_imp[1] == 'intercept')[0][0]]\n",
    "    if is_x0:\n",
    "        b = feat_imp[0][np.where(feat_imp[1] == '0')[0][0]]\n",
    "        c = feat_imp[0][np.where(feat_imp[1] == '1')[0][0]]\n",
    "        d = feat_imp[0][np.where(feat_imp[1] == '1,1')[0][0]]\n",
    "        e = feat_imp[0][np.where(feat_imp[1] == '0,0')[0][0]]\n",
    "    else:\n",
    "        c = feat_imp[0][np.where(feat_imp[1] == '0')[0][0]]\n",
    "        b = feat_imp[0][np.where(feat_imp[1] == '1')[0][0]]\n",
    "        e = feat_imp[0][np.where(feat_imp[1] == '1,1')[0][0]]\n",
    "        d = feat_imp[0][np.where(feat_imp[1] == '0,0')[0][0]]\n",
    "    f = feat_imp[0][np.where(feat_imp[1] == '0,1')[0][0]]\n",
    "\n",
    "    if decimals is not None:\n",
    "        a = np.round(a, decimals)\n",
    "        b = np.round(b, decimals)\n",
    "        c = np.round(c, decimals)\n",
    "        d = np.round(d, decimals)\n",
    "        e = np.round(e, decimals)\n",
    "        f = np.round(f, decimals)\n",
    "\n",
    "    sqrt_content = (c + f*x)**2 - 4*d*(a + x*(b + e*x))\n",
    "    # print(sqrt_content)\n",
    "    x1_p, x1_m = np.nan, np.nan\n",
    "    if d != 0:\n",
    "        if sqrt_content >=-np.inf:\n",
    "            x1_p = -(c + f*x + np.sqrt(sqrt_content))/(2*d)\n",
    "            x1_m = -(c + f*x - np.sqrt(sqrt_content))/(2*d)\n",
    "    else:\n",
    "        if c + f*x != 0:\n",
    "            x1_p = - (a + x*(b + e*x))/(c + f*x)\n",
    "            x1_m = np.nan\n",
    "            \n",
    "    return [x1_p, x1_m]\n"
   ]
  },
  {
   "cell_type": "code",
   "execution_count": null,
   "metadata": {},
   "outputs": [],
   "source": [
    "n_step = 201\n",
    "x0_min = -1\n",
    "x0_max = 9\n",
    "x1_min = -2\n",
    "x1_max = 8\n",
    "x0_space = np.linspace(x0_min, x0_max, n_step)\n",
    "x1_space = np.linspace(x1_min, x1_max, n_step)\n",
    "x0_grid, x1_grid = np.meshgrid(x0_space, x1_space)\n",
    "# x_grid = x_grid.flatten()\\\\\\\n",
    "# x1_grid = x1_grid.flatten()\\\\\\\n",
    "x0x1_grid = np.concatenate((x0_grid.flatten()[:, np.newaxis], x1_grid.flatten()[:, np.newaxis]), axis=1)\n",
    "y_pred = es.decision_function(x0x1_grid)\n",
    "\n",
    "x1_boundary = np.array([calc_boundary_for_2d_sv_with_2_features(x0_b, True, f, 3) for x0_b in x0_space])\n",
    "x0_boundary = np.array([calc_boundary_for_2d_sv_with_2_features(x1_b, False, f, 3) for x1_b in x1_space])\n"
   ]
  },
  {
   "cell_type": "code",
   "execution_count": null,
   "metadata": {},
   "outputs": [],
   "source": [
    "fig, ax = plt.subplots(1,1, figsize=(5,5))\n",
    "delta = (np.max(y_pred) - np.min(y_pred))/20\n",
    "cmap = ax.contourf(x0_grid, x1_grid, y_pred.reshape((n_step, n_step)), \n",
    "                   levels=np.arange(np.min(y_pred), np.max(y_pred)+delta, delta))\n",
    "\n",
    "ax.scatter(x=X_train1[:,0], y=X_train1[:,1], color='k', marker='o')\n",
    "ax.scatter(x=X_train2[:,0], y=X_train2[:,1], color='k', marker='x')\n",
    "\n",
    "plt.plot(x0_space, x1_boundary[:, 0], 'k')\n",
    "plt.plot(x0_space, x1_boundary[:, 1], 'k')\n",
    "plt.plot(x0_boundary[:, 0], x1_space, 'k')\n",
    "plt.plot(x0_boundary[:, 1], x1_space, 'k')\n",
    "\n",
    "ax.set_aspect('equal', adjustable='box')\n",
    "plt.legend(['class 1', 'class -1', 'decision boundary'])\n",
    "plt.colorbar(cmap, ax=ax)\n",
    "plt.xlim([x0_min, x0_max])\n",
    "plt.ylim([x1_min, x1_max])\n",
    "plt.show()"
   ]
  },
  {
   "cell_type": "code",
   "execution_count": null,
   "metadata": {},
   "outputs": [],
   "source": [
    "es.feature_importance(magnitude=False)"
   ]
  },
  {
   "cell_type": "code",
   "execution_count": null,
   "metadata": {},
   "outputs": [],
   "source": [
    "model_y_pred = model.decision_function(x0x1_grid)\n",
    "print(model_y_pred.max(), model.intercept_)"
   ]
  },
  {
   "cell_type": "code",
   "execution_count": null,
   "metadata": {},
   "outputs": [],
   "source": [
    "\n",
    "def calc_x0(x1):\n",
    "    return 3 + np.sqrt(5 - (x1-2)**2), 3 - np.sqrt(5 - (x1-2)**2)\n",
    "\n",
    "\n",
    "fig, ax = plt.subplots(1,1, figsize=(5,5))\n",
    "cmap = plt.contourf(x0_grid, x1_grid, \n",
    "                    (y_pred>0).reshape((n_step, n_step)).astype(float)\n",
    "                    -(y_pred<0).reshape((n_step, n_step)).astype(float), cmap='binary', levels=1)\n",
    "plt.colorbar(cmap)\n",
    "ax.scatter(x=X_train1[:,0], y=X_train1[:,1], color='k', marker='o')\n",
    "ax.scatter(x=X_train2[:,0], y=X_train2[:,1], color='k', marker='x')\n",
    "plt.plot(x0_space, x1_boundary[:, 0], 'k')\n",
    "plt.plot(x0_space, x1_boundary[:, 1], 'k')\n",
    "plt.plot(x0_boundary[:, 0], x1_space, 'k')\n",
    "plt.plot(x0_boundary[:, 1], x1_space, 'k')\n",
    "ax.set_aspect('equal', adjustable='box')\n",
    "plt.legend(['class 1', 'class -1', 'decision boundary'])\n",
    "for x1 in [0, 1, 2, 3, 4]:\n",
    "    print(calc_x0(x1), x1)\n",
    "    plt.scatter(calc_x0(x1)[0], x1, marker='d', color='k')\n",
    "    plt.scatter(calc_x0(x1)[1], x1, marker='d', color='k')\n",
    "# plt.xlim([x0_min, x0_max])\n",
    "# plt.ylim([x1_min, x1_max])\n",
    "plt.clim([-1.5, 1.5])\n",
    "# plt.grid()\n",
    "plt.show()"
   ]
  },
  {
   "cell_type": "markdown",
   "metadata": {},
   "source": [
    "The two concentric circles are centered on (3,2) and the decision boundary is $b(x0, x1) = -2 + 1.5*x_0 + 1*x_1 - 0.25*x_0^2 - 0.25*x_1^2  = 0$, or, equivalently $0 = -8 + x_0(6 - x_0) + x_1(4 - x_1)$ and\n",
    "$(x_0 - 3)^2 + (x_1 - 2)^2 = 5$.\n",
    "\n",
    "\n",
    "Maximum decision function value is reached at (3,2), we reach zero, for example at (1,2)"
   ]
  },
  {
   "cell_type": "code",
   "execution_count": null,
   "metadata": {},
   "outputs": [],
   "source": []
  },
  {
   "cell_type": "markdown",
   "metadata": {},
   "source": []
  }
 ],
 "metadata": {
  "kernelspec": {
   "display_name": "expsvm",
   "language": "python",
   "name": "python3"
  },
  "language_info": {
   "codemirror_mode": {
    "name": "ipython",
    "version": 3
   },
   "file_extension": ".py",
   "mimetype": "text/x-python",
   "name": "python",
   "nbconvert_exporter": "python",
   "pygments_lexer": "ipython3",
   "version": "3.11.5"
  }
 },
 "nbformat": 4,
 "nbformat_minor": 2
}
